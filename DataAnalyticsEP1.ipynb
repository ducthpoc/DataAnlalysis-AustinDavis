{
  "nbformat": 4,
  "nbformat_minor": 0,
  "metadata": {
    "colab": {
      "provenance": [],
      "include_colab_link": true
    },
    "kernelspec": {
      "name": "python3",
      "display_name": "Python 3"
    },
    "language_info": {
      "name": "python"
    }
  },
  "cells": [
    {
      "cell_type": "markdown",
      "metadata": {
        "id": "view-in-github",
        "colab_type": "text"
      },
      "source": [
        "<a href=\"https://colab.research.google.com/github/ducthpoc/DataAnlalysis-AustinDavis/blob/main/DataAnalyticsEP1.ipynb\" target=\"_parent\"><img src=\"https://colab.research.google.com/assets/colab-badge.svg\" alt=\"Open In Colab\"/></a>"
      ]
    },
    {
      "cell_type": "markdown",
      "source": [
        "# **What is Data analytics?**\n",
        "The process of examining, transforming, and interpreting large sets of data to uncover meaningful insights, patterns, and trends. It involves various techniques and tools to extract information from data and make informed decisions or predictions based on the findings.\n",
        "\n",
        "*An intersection between computer science and statistics*\n",
        "\n",
        "---\n",
        "\n",
        "# Example scenario:\n",
        "1.   You work for an ecommerce store that sells gym gear.\n",
        "2.   You are given a large set of data about buyer demographics.\n",
        "3.   You must analyze the dataset to identify demographic trends of buyers\n",
        "4.  Use these trends to better target specific demographics of people\n",
        "5.  Build predictive models to show forecasted sales data based on the analysis\n",
        "\n",
        "---\n",
        "\n",
        "**Data Analytics is a great field to get into**\n",
        "\n",
        "\n",
        "*   Very high in demand (job shortage)\n",
        "*   Very high paying\n",
        "  *   Indeed \\- \\$123,842 per year\n",
        "  *   Salary.com \\- \\$141,524 per year\n",
        "\n",
        "\n",
        "\n",
        "\n",
        "\n",
        "\n",
        "\n",
        "\n",
        "\n",
        "\n",
        "\n",
        "\n",
        "\n",
        "\n",
        "\n",
        "\n",
        "\n"
      ],
      "metadata": {
        "id": "j2JolNkpgU3w"
      }
    },
    {
      "cell_type": "code",
      "source": [
        "# This line prints out the words hello youtube\n",
        "print(\"Hello YouTube\")"
      ],
      "metadata": {
        "colab": {
          "base_uri": "https://localhost:8080/"
        },
        "id": "AUl3TH5RwXeL",
        "outputId": "aeb430bc-df32-4fae-bcd1-86467b60b98d"
      },
      "execution_count": null,
      "outputs": [
        {
          "output_type": "stream",
          "name": "stdout",
          "text": [
            "Hello YouTube\n"
          ]
        }
      ]
    },
    {
      "cell_type": "code",
      "source": [
        "print(\"Hello World\")"
      ],
      "metadata": {
        "colab": {
          "base_uri": "https://localhost:8080/"
        },
        "id": "BQ4aTapXwbBD",
        "outputId": "72f1a439-2f17-48cd-ecfb-e2819f7e662d"
      },
      "execution_count": null,
      "outputs": [
        {
          "output_type": "stream",
          "name": "stdout",
          "text": [
            "Hello World\n"
          ]
        }
      ]
    },
    {
      "cell_type": "markdown",
      "source": [],
      "metadata": {
        "id": "UdMo8twAwtpN"
      }
    }
  ]
}